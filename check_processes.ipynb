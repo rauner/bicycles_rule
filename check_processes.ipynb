{
 "cells": [
  {
   "cell_type": "markdown",
   "metadata": {},
   "source": [
    "# Life cycle impact of different bicycle frame materials\n",
    "\n",
    "The notebook calculates the life cycle impacts of bicycles and ebikes.\n",
    "\n",
    "* The future scenario is a 2°C electricity push scenario\n",
    "* We only consider raw materials not the processing and manufacturing"
   ]
  },
  {
   "cell_type": "code",
   "execution_count": null,
   "metadata": {},
   "outputs": [],
   "source": [
    "#to-does:\n",
    "\n",
    "\n"
   ]
  },
  {
   "cell_type": "code",
   "execution_count": null,
   "metadata": {},
   "outputs": [],
   "source": [
    "# known issues\n"
   ]
  },
  {
   "cell_type": "code",
   "execution_count": 2,
   "metadata": {},
   "outputs": [],
   "source": [
    "import pickle\n",
    "pickle.HIGHEST_PROTOCOL = 4\n",
    "import pandas as pd\n",
    "import numpy as np\n",
    "import math as ma\n",
    "import warnings\n",
    "import matplotlib.pyplot as plt\n",
    "\n",
    "import pprint\n",
    "import brightway2 as bw\n",
    "import bw2io\n",
    "import seaborn as sn\n",
    "import json\n",
    "\n",
    "%run -i ./script/helpers.py\n",
    "\n",
    "\n",
    "warnings.filterwarnings('ignore')\n",
    "\n",
    "year = 2030\n",
    "scenario = \"bike-lca_lca_Budg1100_ElecPush\"\n",
    "\n",
    "# xxxx change to elecera plus lifestyle\n",
    "\n",
    "remind_report        = \"data\\\\remind\\\\Budg1100_ElecEra_2020-09-17_17.17.49\\\\REMIND_generic_Budg1100_ElecEra_withoutPlus.mif\"\n",
    "lca_database         = \"data\\\\lca\\\\brightway2-project-bike-lca_lca_Budg1100_ElecPush-backup.22-January-2021-08-54PM.tar.gz\"\n",
    "magpie_report        = \"data\\\\magpie\\\\magpie_C_SDP-PkBudg1100-mag-4.mif\"\n",
    "literature_report    = \"data\\\\bicycles_rule_plot_source.csv\"\n",
    "air_pollution_report = \"data\\\\air_pollution\\\\results_dalys_SSP2_Budg1100_ElecEra_SSP2_IIASA_aneris_downscaling_.csv\"\n",
    "region_mapping_path  = \"data\\\\regionmappingH12.csv\"\n",
    "\n",
    "edgetransport_moto_path       = \"data\\\\edgeTransport\\\\EDGE_transport_moto_non_energy_cost.csv\"\n",
    "edgetransport_non_moto_path   = \"data\\\\edgeTransport\\\\EDGE_transport_non_moto.csv\"\n",
    "\n",
    "\n",
    "gbd_location_mapping_path = \"data\\\\GBD\\\\location_mapping.csv\"\n",
    "gbd_measure_mapping_path  = \"data\\\\GBD\\\\measure_mapping.csv\"\n",
    "gbd_rei_mapping_path      = \"data\\\\GBD\\\\rei_mapping.csv\"\n",
    "gbd_cause_mapping_path    = \"data\\\\GBD\\\\cause_mapping.csv\"\n",
    "gbd_metric_mapping_path   = \"data\\\\GBD\\\\metric_mapping.csv\"\n",
    "\n",
    "noise_eea_paths           = \"data\\\\noise\\\\EEA_noise.csv\"\n",
    "\n",
    "GBD_path             = \"data\\\\GBD\\\\GBD.json\"\n",
    "\n",
    "#obsolete\n",
    "urban_population = \"data\\\\pop.mif\""
   ]
  },
  {
   "cell_type": "code",
   "execution_count": 3,
   "metadata": {
    "scrolled": true
   },
   "outputs": [
    {
     "name": "stdout",
     "output_type": "stream",
     "text": [
      "Restoring project backup archive - this could take a few minutes...\n"
     ]
    },
    {
     "data": {
      "text/plain": [
       "'bike-lca_lca_Budg1100_ElecPush'"
      ]
     },
     "execution_count": 3,
     "metadata": {},
     "output_type": "execute_result"
    }
   ],
   "source": [
    "# read REMIND lca results\n",
    "bw.restore_project_directory(lca_database)"
   ]
  },
  {
   "cell_type": "code",
   "execution_count": 4,
   "metadata": {
    "scrolled": false
   },
   "outputs": [
    {
     "data": {
      "text/plain": [
       "Databases dictionary with 8 object(s):\n",
       "\tbiosphere3\n",
       "\tecoinvent 3.7 cutoff\n",
       "\tecoinvent_remind_Budg1100_ElecPush_2020\n",
       "\tecoinvent_remind_Budg1100_ElecPush_2025\n",
       "\tecoinvent_remind_Budg1100_ElecPush_2030\n",
       "\tecoinvent_remind_Budg1100_ElecPush_2035\n",
       "\tecoinvent_remind_Budg1100_ElecPush_2040\n",
       "\tecoinvent_remind_Budg1100_ElecPush_2050"
      ]
     },
     "execution_count": 4,
     "metadata": {},
     "output_type": "execute_result"
    }
   ],
   "source": [
    "bw.projects.set_current(scenario)\n",
    "bw.databases"
   ]
  },
  {
   "cell_type": "code",
   "execution_count": 5,
   "metadata": {},
   "outputs": [],
   "source": [
    "ei = bw.Database(\"ecoinvent_remind_Budg1100_ElecPush_\" + str(year))"
   ]
  },
  {
   "cell_type": "code",
   "execution_count": 11,
   "metadata": {},
   "outputs": [
    {
     "data": {
      "text/plain": [
       "['transport, passenger car, fleet average, ICEV-g, 2030' (kilometer, EUR, None),\n",
       " 'transport, passenger car, fleet average, HEV-p, 2030' (kilometer, SSA, None),\n",
       " 'transport, passenger car, fleet average, ICEV-g, 2030' (kilometer, LAM, None),\n",
       " 'market for transport, passenger car with internal combustion engine' (kilometer, RoW, None),\n",
       " 'transport, passenger car, medium size, petrol, EURO 5' (kilometer, RER, None),\n",
       " 'transport, passenger car, medium size, natural gas, EURO 4' (kilometer, RER, None),\n",
       " 'transport, passenger car, large size, petrol, EURO 5' (kilometer, RER, None),\n",
       " 'transport, passenger car, fleet average, BEV, 2030' (kilometer, CHA, None),\n",
       " 'transport, passenger car, fleet average, ICEV-d, 2030' (kilometer, USA, None),\n",
       " 'market for transport, passenger car, medium size, petrol, EURO 5' (kilometer, GLO, None),\n",
       " 'transport, passenger car, medium size, natural gas, EURO 3' (kilometer, RER, None),\n",
       " 'transport, passenger car, fleet average, PHEV-d, 2030' (kilometer, USA, None),\n",
       " 'market for transport, passenger car, large size, petrol, EURO 5' (kilometer, GLO, None),\n",
       " 'market for transport, passenger car, medium size, natural gas, EURO 3' (kilometer, GLO, None),\n",
       " 'transport, passenger car, fleet average, PHEV-p, 2030' (kilometer, JPN, None),\n",
       " 'transport, passenger car, medium size, petrol, EURO 4' (kilometer, RER, None),\n",
       " 'transport, passenger car, fleet average, ICEV-p, 2030' (kilometer, CAZ, None),\n",
       " 'transport, passenger car, fleet average, ICEV-p, 2030' (kilometer, OAS, None),\n",
       " 'transport, passenger car, small size, petrol, EURO 5' (kilometer, RoW, None),\n",
       " 'transport, passenger car, fleet average, ICEV-g, 2030' (kilometer, MEA, None),\n",
       " 'transport, passenger car, small size, diesel, EURO 4' (kilometer, RoW, None),\n",
       " 'transport, passenger car, large size, natural gas, EURO 5' (kilometer, RER, None),\n",
       " 'transport, passenger car, fleet average, HEV-p, 2030' (kilometer, MEA, None),\n",
       " 'transport, passenger car with internal combustion engine' (kilometer, RER, None),\n",
       " 'transport, passenger car, small size, natural gas, EURO 5' (kilometer, RER, None),\n",
       " 'market for transport, passenger car, EURO 3' (kilometer, RER, None),\n",
       " 'transport, passenger car, fleet average, ICEV-g, 2030' (kilometer, JPN, None),\n",
       " 'transport, passenger car, large size, petrol, EURO 4' (kilometer, RoW, None),\n",
       " 'transport, passenger car, fleet average, PHEV-d, 2030' (kilometer, EUR, None),\n",
       " 'transport, passenger car, fleet average, ICEV-g, 2030' (kilometer, IND, None),\n",
       " 'market for transport, passenger car, large size, natural gas, EURO 5' (kilometer, GLO, None),\n",
       " 'transport, passenger car, fleet average, ICEV-p, 2030' (kilometer, REF, None),\n",
       " 'transport, passenger car, fleet average, ICEV-p, 2030' (kilometer, NEU, None),\n",
       " 'transport, passenger car, fleet average, BEV, 2030' (kilometer, MEA, None),\n",
       " 'transport, passenger car, EURO 3' (kilometer, RER, None),\n",
       " 'transport, passenger car, small size, petrol, EURO 4' (kilometer, RER, None),\n",
       " 'transport, passenger car, fleet average, ICEV-p, 2030' (kilometer, USA, None),\n",
       " 'market for transport, passenger car, EURO 5' (kilometer, RER, None),\n",
       " 'transport, passenger car, fleet average, ICEV-g, 2030' (kilometer, OAS, None),\n",
       " 'market for transport, passenger car, large size, natural gas, EURO 3' (kilometer, GLO, None),\n",
       " 'market for transport, passenger car, small size, natural gas, EURO 4' (kilometer, GLO, None),\n",
       " 'transport, passenger car, fleet average, BEV, 2030' (kilometer, LAM, None),\n",
       " 'transport, passenger car, fleet average, ICEV-d, 2030' (kilometer, NEU, None),\n",
       " 'transport, passenger car, fleet average, FCEV, 2030' (kilometer, MEA, None),\n",
       " 'transport, passenger car, fleet average, PHEV-p, 2030' (kilometer, LAM, None),\n",
       " 'market for transport, passenger car, medium size, diesel, EURO 5' (kilometer, GLO, None),\n",
       " 'transport, passenger car, fleet average, ICEV-g, 2030' (kilometer, CHA, None),\n",
       " 'market for transport, passenger car, large size, petrol, EURO 3' (kilometer, GLO, None),\n",
       " 'market for transport, passenger car, small size, natural gas, EURO 3' (kilometer, GLO, None),\n",
       " 'transport, passenger car, fleet average, HEV-d, 2030' (kilometer, MEA, None),\n",
       " 'transport, passenger car, medium size, diesel, EURO 4' (kilometer, RoW, None),\n",
       " 'market for transport, passenger car, small size, diesel, EURO 4' (kilometer, GLO, None),\n",
       " 'market for transport, passenger car, small size, diesel, EURO 3' (kilometer, GLO, None),\n",
       " 'transport, passenger car, small size, natural gas, EURO 3' (kilometer, RoW, None),\n",
       " 'market for transport, passenger car, EURO 4' (kilometer, RoW, None),\n",
       " 'transport, passenger car, large size, natural gas, EURO 4' (kilometer, RER, None),\n",
       " 'transport, passenger car, medium size, diesel, EURO 3' (kilometer, RER, None),\n",
       " 'transport, passenger car, large size, petrol, EURO 3' (kilometer, RoW, None),\n",
       " 'transport, passenger car, small size, petrol, EURO 5' (kilometer, RER, None),\n",
       " 'transport, passenger car, fleet average, PHEV-d, 2030' (kilometer, MEA, None),\n",
       " 'transport, passenger car, fleet average, BEV, 2030' (kilometer, IND, None),\n",
       " 'transport, passenger car, fleet average, HEV-p, 2030' (kilometer, REF, None),\n",
       " 'transport, passenger car, fleet average, ICEV-p, 2030' (kilometer, LAM, None),\n",
       " 'transport, passenger car, small size, diesel, EURO 5' (kilometer, RER, None),\n",
       " 'transport, passenger car, small size, diesel, EURO 3' (kilometer, RoW, None),\n",
       " 'transport, passenger car, large size, diesel, EURO 4' (kilometer, RoW, None),\n",
       " 'market for transport, passenger car, large size, diesel, EURO 4' (kilometer, GLO, None),\n",
       " 'transport, passenger car, fleet average, PHEV-p, 2030' (kilometer, REF, None),\n",
       " 'market for transport, passenger car with internal combustion engine' (kilometer, RER, None),\n",
       " 'transport, passenger car, large size, natural gas, EURO 5' (kilometer, RoW, None),\n",
       " 'transport, passenger car, small size, natural gas, EURO 4' (kilometer, RoW, None),\n",
       " 'market for transport, passenger car' (kilometer, RoW, None),\n",
       " 'transport, passenger car, EURO 4' (kilometer, RoW, None),\n",
       " 'market for transport, passenger car, medium size, diesel, EURO 4' (kilometer, GLO, None),\n",
       " 'transport, passenger car, fleet average, ICEV-p, 2030' (kilometer, SSA, None),\n",
       " 'transport, passenger car, fleet average, HEV-d, 2030' (kilometer, LAM, None),\n",
       " 'market for transport, passenger car, small size, diesel, EURO 5' (kilometer, GLO, None),\n",
       " 'market for transport, passenger car, medium size, natural gas, EURO 5' (kilometer, GLO, None),\n",
       " 'transport, passenger car, fleet average, PHEV-d, 2030' (kilometer, LAM, None),\n",
       " 'transport, passenger car, fleet average, ICEV-d, 2030' (kilometer, MEA, None),\n",
       " 'transport, passenger car, fleet average, BEV, 2030' (kilometer, USA, None),\n",
       " 'transport, passenger car, fleet average, PHEV-p, 2030' (kilometer, IND, None),\n",
       " 'transport, passenger car, fleet average, ICEV-g, 2030' (kilometer, CAZ, None),\n",
       " 'transport, passenger car, fleet average, PHEV-p, 2030' (kilometer, NEU, None),\n",
       " 'transport, passenger car, fleet average, FCEV, 2030' (kilometer, OAS, None),\n",
       " 'transport, passenger car, fleet average, ICEV-p, 2030' (kilometer, MEA, None),\n",
       " 'transport, passenger car, fleet average, HEV-d, 2030' (kilometer, SSA, None),\n",
       " 'market for transport, passenger car, medium size, petrol, EURO 4' (kilometer, GLO, None),\n",
       " 'transport, passenger car, medium size, petrol, EURO 3' (kilometer, RER, None),\n",
       " 'transport, passenger car, fleet average, ICEV-g, 2030' (kilometer, NEU, None),\n",
       " 'transport, passenger car' (kilometer, RoW, None),\n",
       " 'transport, passenger car, fleet average, HEV-d, 2030' (kilometer, JPN, None),\n",
       " 'transport, passenger car, fleet average, BEV, 2030' (kilometer, REF, None),\n",
       " 'transport, passenger car, fleet average, ICEV-p, 2030' (kilometer, IND, None),\n",
       " 'transport, passenger car, fleet average, BEV, 2030' (kilometer, EUR, None),\n",
       " 'market for transport, passenger car, small size, petrol, EURO 3' (kilometer, GLO, None),\n",
       " 'transport, passenger car, fleet average, PHEV-p, 2030' (kilometer, EUR, None),\n",
       " 'transport, passenger car, fleet average, ICEV-d, 2030' (kilometer, CAZ, None),\n",
       " 'market for transport, passenger car, small size, natural gas, EURO 5' (kilometer, GLO, None),\n",
       " 'transport, passenger car, fleet average, HEV-d, 2030' (kilometer, USA, None),\n",
       " 'transport, passenger car, large size, diesel, EURO 3' (kilometer, RoW, None),\n",
       " 'transport, passenger car, fleet average, FCEV, 2030' (kilometer, USA, None),\n",
       " 'transport, passenger car, fleet average, HEV-p, 2030' (kilometer, USA, None),\n",
       " 'transport, passenger car, fleet average, HEV-p, 2030' (kilometer, IND, None),\n",
       " 'transport, passenger car, EURO 4' (kilometer, RER, None),\n",
       " 'transport, passenger car, fleet average, PHEV-p, 2030' (kilometer, CAZ, None),\n",
       " 'transport, passenger car, fleet average, PHEV-d, 2030' (kilometer, NEU, None),\n",
       " 'transport, passenger car, fleet average, FCEV, 2030' (kilometer, REF, None),\n",
       " 'transport, passenger car, large size, diesel, EURO 5' (kilometer, RER, None),\n",
       " 'transport, passenger car, fleet average, PHEV-d, 2030' (kilometer, OAS, None),\n",
       " 'market for transport, passenger car, EURO 4' (kilometer, RER, None),\n",
       " 'transport, passenger car, electric' (kilometer, GLO, None),\n",
       " 'market for transport, passenger car, medium size, petrol, EURO 3' (kilometer, GLO, None),\n",
       " 'transport, passenger car, fleet average, PHEV-d, 2030' (kilometer, CAZ, None),\n",
       " 'transport, passenger car, small size, petrol, EURO 3' (kilometer, RER, None),\n",
       " 'transport, passenger car, medium size, diesel, EURO 4' (kilometer, RER, None),\n",
       " 'market for transport, passenger car, large size, petol, EURO 4' (kilometer, GLO, None),\n",
       " 'transport, passenger car, fleet average, ICEV-d, 2030' (kilometer, LAM, None),\n",
       " 'market for transport, passenger car, medium size, diesel, EURO 3' (kilometer, GLO, None),\n",
       " 'transport, passenger car, fleet average, ICEV-g, 2030' (kilometer, REF, None),\n",
       " 'transport, passenger car, large size, natural gas, EURO 3' (kilometer, RoW, None),\n",
       " 'transport, passenger car, large size, diesel, EURO 3' (kilometer, RER, None),\n",
       " 'transport, passenger car, fleet average, ICEV-p, 2030' (kilometer, EUR, None),\n",
       " 'transport, passenger car, fleet average, HEV-p, 2030' (kilometer, OAS, None),\n",
       " 'transport, passenger car, medium size, petrol, EURO 5' (kilometer, RoW, None),\n",
       " 'transport, passenger car, fleet average, BEV, 2030' (kilometer, JPN, None),\n",
       " 'transport, passenger car, fleet average, ICEV-d, 2030' (kilometer, JPN, None),\n",
       " 'market for transport, passenger car, EURO 3' (kilometer, RoW, None),\n",
       " 'transport, passenger car, fleet average, FCEV, 2030' (kilometer, JPN, None),\n",
       " 'transport, passenger car, fleet average, PHEV-d, 2030' (kilometer, JPN, None),\n",
       " 'transport, passenger car, fleet average, HEV-d, 2030' (kilometer, OAS, None),\n",
       " 'market for transport, passenger car, large size, natural gas, EURO 4' (kilometer, GLO, None),\n",
       " 'transport, passenger car, fleet average, BEV, 2030' (kilometer, SSA, None),\n",
       " 'market for transport, passenger car, electric' (kilometer, GLO, None),\n",
       " 'transport, passenger car, small size, natural gas, EURO 5' (kilometer, RoW, None),\n",
       " 'transport, passenger car, fleet average, PHEV-p, 2030' (kilometer, CHA, None),\n",
       " 'transport, passenger car, fleet average, HEV-p, 2030' (kilometer, CHA, None),\n",
       " 'transport, passenger car, fleet average, FCEV, 2030' (kilometer, SSA, None),\n",
       " 'transport, passenger car, fleet average, FCEV, 2030' (kilometer, LAM, None),\n",
       " 'transport, passenger car, small size, petrol, EURO 3' (kilometer, RoW, None),\n",
       " 'transport, passenger car, fleet average, PHEV-d, 2030' (kilometer, SSA, None),\n",
       " 'transport, passenger car, fleet average, PHEV-p, 2030' (kilometer, USA, None),\n",
       " 'transport, passenger car, fleet average, ICEV-p, 2030' (kilometer, CHA, None),\n",
       " 'transport, passenger car, medium size, diesel, EURO 5' (kilometer, RoW, None),\n",
       " 'market for transport, passenger car, large size, diesel, EURO 5' (kilometer, GLO, None),\n",
       " 'transport, passenger car, small size, petrol, EURO 4' (kilometer, RoW, None),\n",
       " 'transport, passenger car, EURO 5' (kilometer, RoW, None),\n",
       " 'transport, passenger car, large size, petrol, EURO 3' (kilometer, RER, None),\n",
       " 'transport, passenger car, medium size, diesel, EURO 3' (kilometer, RoW, None),\n",
       " 'transport, passenger car, fleet average, HEV-p, 2030' (kilometer, EUR, None),\n",
       " 'transport, passenger car, medium size, natural gas, EURO 4' (kilometer, RoW, None),\n",
       " 'market for transport, passenger car' (kilometer, RER, None),\n",
       " 'transport, passenger car, medium size, petrol, EURO 3' (kilometer, RoW, None),\n",
       " 'market for transport, passenger car, medium size, natural gas, EURO 4' (kilometer, GLO, None),\n",
       " 'transport, passenger car, large size, natural gas, EURO 3' (kilometer, RER, None),\n",
       " 'transport, passenger car, fleet average, BEV, 2030' (kilometer, OAS, None),\n",
       " 'transport, passenger car, large size, petrol, EURO 4' (kilometer, RER, None),\n",
       " 'transport, passenger car, small size, diesel, EURO 5' (kilometer, RoW, None),\n",
       " 'transport, passenger car, fleet average, FCEV, 2030' (kilometer, CHA, None),\n",
       " 'transport, passenger car, medium size, diesel, EURO 5' (kilometer, RER, None),\n",
       " 'transport, passenger car, fleet average, FCEV, 2030' (kilometer, NEU, None),\n",
       " 'transport, passenger car, fleet average, ICEV-d, 2030' (kilometer, OAS, None),\n",
       " 'market for transport, passenger car, large size, diesel, EURO 3' (kilometer, GLO, None),\n",
       " 'transport, passenger car, medium size, natural gas, EURO 5' (kilometer, RER, None),\n",
       " 'transport, passenger car, fleet average, PHEV-p, 2030' (kilometer, SSA, None),\n",
       " 'market for transport, passenger car, small size, petrol, EURO 4' (kilometer, GLO, None),\n",
       " 'transport, passenger car with internal combustion engine' (kilometer, RoW, None),\n",
       " 'transport, passenger car, small size, natural gas, EURO 3' (kilometer, RER, None),\n",
       " 'transport, passenger car, EURO 5' (kilometer, RER, None),\n",
       " 'transport, passenger car, small size, diesel, EURO 3' (kilometer, RER, None),\n",
       " 'transport, passenger car, fleet average, BEV, 2030' (kilometer, CAZ, None),\n",
       " 'transport, passenger car, fleet average, FCEV, 2030' (kilometer, CAZ, None),\n",
       " 'transport, passenger car, fleet average, HEV-p, 2030' (kilometer, JPN, None),\n",
       " 'transport, passenger car, fleet average, PHEV-p, 2030' (kilometer, MEA, None),\n",
       " 'transport, passenger car, large size, petrol, EURO 5' (kilometer, RoW, None),\n",
       " 'transport, passenger car' (kilometer, RER, None),\n",
       " 'transport, passenger car, fleet average, HEV-d, 2030' (kilometer, CAZ, None),\n",
       " 'transport, passenger car, fleet average, HEV-p, 2030' (kilometer, NEU, None),\n",
       " 'transport, passenger car, large size, diesel, EURO 5' (kilometer, RoW, None),\n",
       " 'market for transport, passenger car, small size, petrol, EURO 5' (kilometer, GLO, None),\n",
       " 'transport, passenger car, fleet average, HEV-d, 2030' (kilometer, EUR, None),\n",
       " 'transport, passenger car, large size, natural gas, EURO 4' (kilometer, RoW, None),\n",
       " 'transport, passenger car, fleet average, HEV-d, 2030' (kilometer, NEU, None),\n",
       " 'market for transport, passenger car, medium size, liquefied petroleum gas, EURO 5' (kilometer, GLO, None),\n",
       " 'transport, passenger car, fleet average, PHEV-p, 2030' (kilometer, OAS, None),\n",
       " 'transport, passenger car, fleet average, HEV-p, 2030' (kilometer, CAZ, None),\n",
       " 'transport, passenger car, EURO 3' (kilometer, RoW, None),\n",
       " 'transport, passenger car, fleet average, ICEV-g, 2030' (kilometer, USA, None),\n",
       " 'transport, passenger car, fleet average, ICEV-d, 2030' (kilometer, SSA, None),\n",
       " 'transport, passenger car, medium size, liquefied petroleum gas (LPG), EURO 5' (kilometer, GLO, None),\n",
       " 'transport, passenger car, fleet average, ICEV-g, 2030' (kilometer, SSA, None),\n",
       " 'transport, passenger car, large size, diesel, EURO 4' (kilometer, RER, None),\n",
       " 'transport, passenger car, fleet average, BEV, 2030' (kilometer, NEU, None),\n",
       " 'transport, passenger car, medium size, natural gas, EURO 3' (kilometer, RoW, None),\n",
       " 'transport, passenger car, medium size, natural gas, EURO 5' (kilometer, RoW, None),\n",
       " 'transport, passenger car, fleet average, FCEV, 2030' (kilometer, IND, None),\n",
       " 'transport, passenger car, small size, diesel, EURO 4' (kilometer, RER, None),\n",
       " 'transport, passenger car, fleet average, FCEV, 2030' (kilometer, EUR, None),\n",
       " 'transport, passenger car, small size, natural gas, EURO 4' (kilometer, RER, None),\n",
       " 'transport, passenger car, fleet average, ICEV-p, 2030' (kilometer, JPN, None),\n",
       " 'transport, passenger car, fleet average, ICEV-d, 2030' (kilometer, EUR, None),\n",
       " 'transport, passenger car, medium size, petrol, EURO 4' (kilometer, RoW, None),\n",
       " 'transport, passenger car, fleet average, HEV-p, 2030' (kilometer, LAM, None),\n",
       " 'market for transport, passenger car, EURO 5' (kilometer, RoW, None)]"
      ]
     },
     "execution_count": 11,
     "metadata": {},
     "output_type": "execute_result"
    }
   ],
   "source": [
    "[act for act in ei if \"transport, passenger car\" in act[\"name\"]]\n",
    "\n",
    "\n"
   ]
  },
  {
   "cell_type": "code",
   "execution_count": 117,
   "metadata": {},
   "outputs": [],
   "source": [
    "# frame materials\n",
    "materials                    =        [\"market for steel, low-alloyed, hot rolled\",\n",
    "                                       \"market for steel, chromium steel 18/8, hot rolled\", \n",
    "                                       \"market for aluminium alloy, AlLi\",   \n",
    "                                       \"market for titanium primary\",\n",
    "                                       \"market for carbon fibre reinforced plastic\"]\n",
    "\n"
   ]
  },
  {
   "cell_type": "code",
   "execution_count": 118,
   "metadata": {},
   "outputs": [
    {
     "name": "stdout",
     "output_type": "stream",
     "text": [
      "market for steel, low-alloyed, hot rolled\n",
      "market for steel, chromium steel 18/8, hot rolled\n",
      "market for aluminium alloy, AlLi\n",
      "market for titanium primary\n",
      "market for carbon fibre reinforced plastic\n"
     ]
    }
   ],
   "source": [
    "# fill a list with the relevant ecoinvent activities\n",
    "acti = {}\n",
    "\n",
    "for i in range(len(materials)):\n",
    "    activity = str(materials[i])\n",
    "    print(activity)\n",
    "    \n",
    "    acti[activity] = [act for act in ei if activity in act[\"name\"]]\n",
    "\n",
    "    "
   ]
  },
  {
   "cell_type": "code",
   "execution_count": 119,
   "metadata": {},
   "outputs": [
    {
     "name": "stdout",
     "output_type": "stream",
     "text": [
      "'market for steel, low-alloyed, hot rolled' (kilogram, GLO, None): 1.2012901567259042 ('IPCC 2013', 'climate change', 'GWP 100a')\n",
      "'market for steel, chromium steel 18/8, hot rolled' (kilogram, GLO, None): 3.1510299309709042 ('IPCC 2013', 'climate change', 'GWP 100a')\n",
      "'market for aluminium alloy, AlLi' (kilogram, GLO, None): 6.885853103601761 ('IPCC 2013', 'climate change', 'GWP 100a')\n",
      "'market for titanium primary, triple-melt' (kilogram, GLO, None): 15.4454232024795 ('IPCC 2013', 'climate change', 'GWP 100a')\n",
      "'market for carbon fibre reinforced plastic, injection moulded' (kilogram, GLO, None): 51.04642415902489 ('IPCC 2013', 'climate change', 'GWP 100a')\n"
     ]
    }
   ],
   "source": [
    "# calculate the lci and lca for the activities in acti\n",
    "\n",
    "lca = {}\n",
    "impact_category = ('IPCC 2013', 'climate change', 'GWP 100a')\n",
    "for i in acti:\n",
    "  \n",
    "        for e in acti[i]:\n",
    "\n",
    "            lca[e] = bw.LCA({e: 1}, (impact_category))\n",
    "            lca[e].lci()\n",
    "            lca[e].lcia()\n",
    "            lca[e].score\n",
    "            print(str(e) + ': '+  str(lca[e].score) + ' ' + str(impact_category))\n",
    "\n"
   ]
  },
  {
   "cell_type": "code",
   "execution_count": 120,
   "metadata": {},
   "outputs": [],
   "source": [
    "def modes(lca):\n",
    "    lca_impacts = {}\n",
    "    fd   = pd.DataFrame()\n",
    "\n",
    "\n",
    "\n",
    "    for i in lca:\n",
    "      \n",
    "        for m in methods:\n",
    "        \n",
    "            lca[i].switch_method(m)    \n",
    "            lca[i].lcia()\n",
    "            lca_impacts[m[1]] = lca[i].score\n",
    "\n",
    "            \n",
    "        full = pd.DataFrame.from_dict(lca_impacts, orient=\"index\",  columns=[str(i)])\n",
    "        fd[str(i)]=full[str(i)]\n",
    "        \n",
    "        fd.index.name = \"indicator\"\n",
    "        fd.columns.name = \"materials\"\n",
    "    return fd"
   ]
  },
  {
   "cell_type": "code",
   "execution_count": 144,
   "metadata": {},
   "outputs": [],
   "source": []
  },
  {
   "cell_type": "code",
   "execution_count": 151,
   "metadata": {},
   "outputs": [
    {
     "data": {
      "text/plain": [
       "Text(0.5, 1.0, 'Global warming potential of frame raw materials [kg CO2-Eq / kg] \\n Budget 1100 Elec push 2030')"
      ]
     },
     "execution_count": 151,
     "metadata": {},
     "output_type": "execute_result"
    },
    {
     "data": {
      "image/png": "[encoded data removed]",
      "text/plain": [
       "<Figure size 432x288 with 1 Axes>"
      ]
     },
     "metadata": {
      "needs_background": "light"
     },
     "output_type": "display_data"
    }
   ],
   "source": [
    "methods = [m for m in bw.methods if \"ReCiPe Midpoint (H) V1.13', 'climate change', 'GWP100\" in str(m) and \"w/o LT\" not in str(m) and \"no LT\" not in str(m)]\n",
    "data = modes(lca)\n",
    "data = data.rename(columns = lambda x : str(x)[:44])\n",
    "data.plot.bar()\n",
    "plt.legend(loc = 2)\n",
    "plt.title('Global warming potential of frame raw materials [kg CO2-Eq / kg] \\n Budget 1100 Elec push ' + str(year))\n",
    "#plt.savefig(\"plot/impact_frame_materials_\"+str(year)+\".pdf\", bbox_inches='tight')\n"
   ]
  },
  {
   "cell_type": "code",
   "execution_count": null,
   "metadata": {},
   "outputs": [],
   "source": []
  },
  {
   "cell_type": "code",
   "execution_count": null,
   "metadata": {},
   "outputs": [],
   "source": []
  }
 ],
 "metadata": {
  "kernelspec": {
   "display_name": "Python 3",
   "language": "python",
   "name": "python3"
  },
  "language_info": {
   "codemirror_mode": {
    "name": "ipython",
    "version": 3
   },
   "file_extension": ".py",
   "mimetype": "text/x-python",
   "name": "python",
   "nbconvert_exporter": "python",
   "pygments_lexer": "ipython3",
   "version": "3.8.8"
  }
 },
 "nbformat": 4,
 "nbformat_minor": 2
}
