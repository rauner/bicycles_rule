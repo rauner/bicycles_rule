{
 "cells": [
  {
   "cell_type": "markdown",
   "metadata": {},
   "source": [
    "# LCA for different transport modes with a focus on bicycles\n",
    "\n",
    "The notebook calculates the life cycle impacts of bicycles and ebikes.\n",
    "* Calculate the energy requirement of powering bicycles\n",
    "* Calculate the impact of nutrition\n",
    "* Compare these impacts to other modes of transport."
   ]
  },
  {
   "cell_type": "code",
   "execution_count": null,
   "metadata": {},
   "outputs": [],
   "source": [
    "#to-does:\n",
    "# add walking?\n",
    "# assume slope to be zero?\n",
    "# ask Alois if mode processes are normalized to one passenger, if not ask for utilization factor\n",
    "# add fuel requirements of electric bike\n",
    "\n"
   ]
  },
  {
   "cell_type": "code",
   "execution_count": null,
   "metadata": {},
   "outputs": [],
   "source": [
    "# known issues\n",
    "# car load factor is global average\n",
    "#liquids is only mapped to gasoline not diesel\n",
    "#active transport modes are not differentiated in REMIND\n",
    "# ecoinvent processes: \n",
    "# transport, passenger car, fleet average, {BEV, FCEV, ICEV-d, ICEV-p, ICEV-g, HEV-d, HEV-p, HEV-g, PHEV-d, PHEV-p, PHEV-g}, <year>, -d = Diesel, -p = Petrol, -g = Gas"
   ]
  },
  {
   "cell_type": "code",
   "execution_count": 1,
   "metadata": {},
   "outputs": [],
   "source": [
    "# sector impacts\n",
    "# ES|Transport|VKM|Pass|Road|LDV|{BEV, FCEV, Gases, Hybrid Electric, Hybrid Liquids, Liquids}\n",
    "# die Variablen ohne das VKM sind die pkms"
   ]
  },
  {
   "cell_type": "code",
   "execution_count": 1,
   "metadata": {},
   "outputs": [],
   "source": [
    "import pickle\n",
    "pickle.HIGHEST_PROTOCOL = 4\n",
    "import pandas as pd\n",
    "import math as ma\n",
    "import warnings\n",
    "import matplotlib.pyplot as plt\n",
    "\n",
    "import pprint\n",
    "import brightway2 as bw\n",
    "import bw2io\n",
    "import seaborn as sn\n",
    "\n",
    "\n",
    "warnings.filterwarnings('ignore')\n",
    "\n",
    "year = 2030\n",
    "scenario = \"bike-lca_lca_Budg1100_ElecPush\"\n",
    "\n",
    "remind_report        = \"data\\\\Budg1100_ElecEra_2020-09-17_17.17.49\\\\REMIND_generic_Budg1100_ElecEra_withoutPlus.mif\"\n",
    "lca_database         = \"data\\\\brightway2-project-bike-lca_lca_Budg1100_ElecPush-backup.22-January-2021-08-54PM.tar.gz\"\n",
    "magpie_report        = \"data\\\\magpie_C_SDP-PkBudg1100-mag-4.mif\"\n",
    "literature_report    = \"data\\\\bicycles_rule_plot_source.csv\"\n",
    "air_pollution_report = \"data\\\\air_pollution\\\\results_dalys_SSP2_Budg1100_ElecEra_SSP2_IIASA_aneris_downscaling_.csv\"\n",
    "\n",
    "urban_population = \"data\\\\pop.mif\""
   ]
  },
  {
   "cell_type": "code",
   "execution_count": 2,
   "metadata": {
    "scrolled": true
   },
   "outputs": [
    {
     "name": "stdout",
     "output_type": "stream",
     "text": [
      "Restoring project backup archive - this could take a few minutes...\n"
     ]
    },
    {
     "data": {
      "text/plain": [
       "'bike-lca_lca_Budg1100_ElecPush'"
      ]
     },
     "execution_count": 2,
     "metadata": {},
     "output_type": "execute_result"
    }
   ],
   "source": [
    "# read REMIND lca results\n",
    "bw.restore_project_directory(lca_database)"
   ]
  },
  {
   "cell_type": "code",
   "execution_count": 3,
   "metadata": {
    "scrolled": false
   },
   "outputs": [
    {
     "data": {
      "text/plain": [
       "Databases dictionary with 8 object(s):\n",
       "\tbiosphere3\n",
       "\tecoinvent 3.7 cutoff\n",
       "\tecoinvent_remind_Budg1100_ElecPush_2020\n",
       "\tecoinvent_remind_Budg1100_ElecPush_2025\n",
       "\tecoinvent_remind_Budg1100_ElecPush_2030\n",
       "\tecoinvent_remind_Budg1100_ElecPush_2035\n",
       "\tecoinvent_remind_Budg1100_ElecPush_2040\n",
       "\tecoinvent_remind_Budg1100_ElecPush_2050"
      ]
     },
     "execution_count": 3,
     "metadata": {},
     "output_type": "execute_result"
    }
   ],
   "source": [
    "bw.projects.set_current(scenario)\n",
    "bw.databases"
   ]
  },
  {
   "cell_type": "code",
   "execution_count": 4,
   "metadata": {},
   "outputs": [],
   "source": [
    "ei = bw.Database(\"ecoinvent_remind_Budg1100_ElecPush_\" + str(year))"
   ]
  },
  {
   "cell_type": "code",
   "execution_count": 5,
   "metadata": {},
   "outputs": [
    {
     "ename": "UnicodeEncodeError",
     "evalue": "'charmap' codec can't encode character '\\u2192' in position 2141: character maps to <undefined>",
     "output_type": "error",
     "traceback": [
      "\u001b[1;31m---------------------------------------------------------------------------\u001b[0m",
      "\u001b[1;31mUnicodeEncodeError\u001b[0m                        Traceback (most recent call last)",
      "\u001b[1;32m<ipython-input-5-b2eaf795e8fd>\u001b[0m in \u001b[0;36m<module>\u001b[1;34m\u001b[0m\n\u001b[1;32m----> 1\u001b[1;33m \u001b[0mbw2io\u001b[0m\u001b[1;33m.\u001b[0m\u001b[0mexport\u001b[0m\u001b[1;33m.\u001b[0m\u001b[0mcsv\u001b[0m\u001b[1;33m.\u001b[0m\u001b[0mwrite_lci_csv\u001b[0m\u001b[1;33m(\u001b[0m\u001b[1;34m\"ecoinvent 3.7 cutoff\"\u001b[0m\u001b[1;33m)\u001b[0m\u001b[1;33m\u001b[0m\u001b[1;33m\u001b[0m\u001b[0m\n\u001b[0m",
      "\u001b[1;32m~\\AppData\\Local\\Continuum\\miniconda3\\envs\\holistic3\\lib\\site-packages\\bw2io\\export\\csv.py\u001b[0m in \u001b[0;36mwrite_lci_csv\u001b[1;34m(database_name, sections)\u001b[0m\n\u001b[0;32m    254\u001b[0m         \u001b[0mwriter\u001b[0m \u001b[1;33m=\u001b[0m \u001b[0mcsv\u001b[0m\u001b[1;33m.\u001b[0m\u001b[0mwriter\u001b[0m\u001b[1;33m(\u001b[0m\u001b[0mf\u001b[0m\u001b[1;33m)\u001b[0m\u001b[1;33m\u001b[0m\u001b[1;33m\u001b[0m\u001b[0m\n\u001b[0;32m    255\u001b[0m         \u001b[1;32mfor\u001b[0m \u001b[0mline\u001b[0m \u001b[1;32min\u001b[0m \u001b[0mdata\u001b[0m\u001b[1;33m:\u001b[0m\u001b[1;33m\u001b[0m\u001b[1;33m\u001b[0m\u001b[0m\n\u001b[1;32m--> 256\u001b[1;33m             \u001b[0mwriter\u001b[0m\u001b[1;33m.\u001b[0m\u001b[0mwriterow\u001b[0m\u001b[1;33m(\u001b[0m\u001b[0mline\u001b[0m\u001b[1;33m)\u001b[0m\u001b[1;33m\u001b[0m\u001b[1;33m\u001b[0m\u001b[0m\n\u001b[0m\u001b[0;32m    257\u001b[0m \u001b[1;33m\u001b[0m\u001b[0m\n\u001b[0;32m    258\u001b[0m     \u001b[1;32mreturn\u001b[0m \u001b[0mfilepath\u001b[0m\u001b[1;33m\u001b[0m\u001b[1;33m\u001b[0m\u001b[0m\n",
      "\u001b[1;32m~\\AppData\\Local\\Continuum\\miniconda3\\envs\\holistic3\\lib\\encodings\\cp1252.py\u001b[0m in \u001b[0;36mencode\u001b[1;34m(self, input, final)\u001b[0m\n\u001b[0;32m     17\u001b[0m \u001b[1;32mclass\u001b[0m \u001b[0mIncrementalEncoder\u001b[0m\u001b[1;33m(\u001b[0m\u001b[0mcodecs\u001b[0m\u001b[1;33m.\u001b[0m\u001b[0mIncrementalEncoder\u001b[0m\u001b[1;33m)\u001b[0m\u001b[1;33m:\u001b[0m\u001b[1;33m\u001b[0m\u001b[1;33m\u001b[0m\u001b[0m\n\u001b[0;32m     18\u001b[0m     \u001b[1;32mdef\u001b[0m \u001b[0mencode\u001b[0m\u001b[1;33m(\u001b[0m\u001b[0mself\u001b[0m\u001b[1;33m,\u001b[0m \u001b[0minput\u001b[0m\u001b[1;33m,\u001b[0m \u001b[0mfinal\u001b[0m\u001b[1;33m=\u001b[0m\u001b[1;32mFalse\u001b[0m\u001b[1;33m)\u001b[0m\u001b[1;33m:\u001b[0m\u001b[1;33m\u001b[0m\u001b[1;33m\u001b[0m\u001b[0m\n\u001b[1;32m---> 19\u001b[1;33m         \u001b[1;32mreturn\u001b[0m \u001b[0mcodecs\u001b[0m\u001b[1;33m.\u001b[0m\u001b[0mcharmap_encode\u001b[0m\u001b[1;33m(\u001b[0m\u001b[0minput\u001b[0m\u001b[1;33m,\u001b[0m\u001b[0mself\u001b[0m\u001b[1;33m.\u001b[0m\u001b[0merrors\u001b[0m\u001b[1;33m,\u001b[0m\u001b[0mencoding_table\u001b[0m\u001b[1;33m)\u001b[0m\u001b[1;33m[\u001b[0m\u001b[1;36m0\u001b[0m\u001b[1;33m]\u001b[0m\u001b[1;33m\u001b[0m\u001b[1;33m\u001b[0m\u001b[0m\n\u001b[0m\u001b[0;32m     20\u001b[0m \u001b[1;33m\u001b[0m\u001b[0m\n\u001b[0;32m     21\u001b[0m \u001b[1;32mclass\u001b[0m \u001b[0mIncrementalDecoder\u001b[0m\u001b[1;33m(\u001b[0m\u001b[0mcodecs\u001b[0m\u001b[1;33m.\u001b[0m\u001b[0mIncrementalDecoder\u001b[0m\u001b[1;33m)\u001b[0m\u001b[1;33m:\u001b[0m\u001b[1;33m\u001b[0m\u001b[1;33m\u001b[0m\u001b[0m\n",
      "\u001b[1;31mUnicodeEncodeError\u001b[0m: 'charmap' codec can't encode character '\\u2192' in position 2141: character maps to <undefined>"
     ]
    }
   ],
   "source": [
    "bw2io.export.csv.write_lci_csv(\"ecoinvent 3.7 cutoff\")"
   ]
  },
  {
   "cell_type": "code",
   "execution_count": null,
   "metadata": {},
   "outputs": [],
   "source": [
    "#transport, passenger car, fleet average, {BEV, FCEV, ICEV-d, ICEV-p, ICEV-g, HEV-d, HEV-p, HEV-g, PHEV-d, PHEV-p, PHEV-g}, <year>, -d = Diesel, -p = Petrol, -g = Gas\n",
    "#ES|Transport|VKM|Pass|Road|LDV|{BEV, FCEV, Gases, Hybrid Electric, Hybrid Liquids, Liquids}"
   ]
  },
  {
   "cell_type": "code",
   "execution_count": null,
   "metadata": {},
   "outputs": [],
   "source": [
    "#map remind variable to ecoinvent variable\n",
    "ecoinvent_activity_transport_mapping =        {'ES|Transport|Pass|Road|LDV|BEV': \"'transport, passenger car, fleet average, BEV, \" + str(year)+\"' (kilometer, region, None)\",\n",
    "                                               'ES|Transport|Pass|Road|LDV|FCEV': \"'transport, passenger car, fleet average, FCEV, \" + str(year)+\"' (kilometer, region, None)\",\n",
    "                                               'ES|Transport|Pass|Road|LDV|Gases': \"'transport, passenger car, fleet average, ICEV-g, \" + str(year)+\"' (kilometer, region, None)\",\n",
    "                                               'ES|Transport|Pass|Road|LDV|Hybrid Electric': \"'transport, passenger car, fleet average, PHEV-p, \" + str(year)+\"' (kilometer, region, None)\",\n",
    "                                               'ES|Transport|Pass|Road|LDV|Hybrid Liquids': \"'transport, passenger car, fleet average, HEV-p, \" + str(year)+\"' (kilometer, region, None)\",\n",
    "                                               'ES|Transport|Pass|Road|LDV|Liquids': \"'transport, passenger car, fleet average, ICEV-p, \" + str(year)+\"' (kilometer, region, None)\"}\n",
    "\n"
   ]
  },
  {
   "cell_type": "code",
   "execution_count": 7,
   "metadata": {},
   "outputs": [
    {
     "name": "stdout",
     "output_type": "stream",
     "text": [
      "'transport, passenger car, fleet average, BEV, 2030' (kilometer, CAZ, None)\n",
      "0.06958415030762305\n",
      "'transport, passenger car, fleet average, BEV, 2030' (kilometer, CHA, None)\n",
      "0.22566518588173964\n",
      "'transport, passenger car, fleet average, BEV, 2030' (kilometer, EUR, None)\n",
      "0.20663028685698165\n",
      "'transport, passenger car, fleet average, BEV, 2030' (kilometer, IND, None)\n",
      "0.001972512968202739\n",
      "'transport, passenger car, fleet average, BEV, 2030' (kilometer, JPN, None)\n",
      "0.01778461558468181\n",
      "'transport, passenger car, fleet average, BEV, 2030' (kilometer, LAM, None)\n",
      "0.08586272606550507\n",
      "'transport, passenger car, fleet average, BEV, 2030' (kilometer, MEA, None)\n",
      "0.04132126677986504\n",
      "'transport, passenger car, fleet average, BEV, 2030' (kilometer, NEU, None)\n",
      "0.017967480465984592\n",
      "'transport, passenger car, fleet average, BEV, 2030' (kilometer, OAS, None)\n",
      "0.032122641130985854\n",
      "'transport, passenger car, fleet average, BEV, 2030' (kilometer, REF, None)\n",
      "0.012235982210987609\n",
      "'transport, passenger car, fleet average, BEV, 2030' (kilometer, SSA, None)\n",
      "0.006135676716826065\n",
      "'transport, passenger car, fleet average, FCEV, 2030' (kilometer, CAZ, None)\n",
      "0.027676418900915375\n",
      "'transport, passenger car, fleet average, FCEV, 2030' (kilometer, CHA, None)\n",
      "0.6973947757412531\n",
      "'transport, passenger car, fleet average, FCEV, 2030' (kilometer, EUR, None)\n",
      "0.0704119451263653\n",
      "'transport, passenger car, fleet average, FCEV, 2030' (kilometer, IND, None)\n",
      "0.0010565670788325117\n",
      "'transport, passenger car, fleet average, FCEV, 2030' (kilometer, JPN, None)\n",
      "0.005462509218153285\n",
      "'transport, passenger car, fleet average, FCEV, 2030' (kilometer, LAM, None)\n",
      "0.03186326500329288\n",
      "'transport, passenger car, fleet average, FCEV, 2030' (kilometer, MEA, None)\n",
      "0.020681415034446437\n",
      "'transport, passenger car, fleet average, FCEV, 2030' (kilometer, NEU, None)\n",
      "0.005514899551292466\n",
      "'transport, passenger car, fleet average, FCEV, 2030' (kilometer, OAS, None)\n",
      "0.01253328049358727\n",
      "'transport, passenger car, fleet average, FCEV, 2030' (kilometer, REF, None)\n",
      "0.005976037670847227\n",
      "'transport, passenger car, fleet average, FCEV, 2030' (kilometer, SSA, None)\n",
      "0.0033097787613533833\n",
      "'transport, passenger car, fleet average, ICEV-g, 2030' (kilometer, CAZ, None)\n",
      "0.004516302176475695\n",
      "'transport, passenger car, fleet average, ICEV-g, 2030' (kilometer, CHA, None)\n",
      "0.24879703341565945\n",
      "'transport, passenger car, fleet average, ICEV-g, 2030' (kilometer, EUR, None)\n",
      "0.01417430846934709\n",
      "'transport, passenger car, fleet average, ICEV-g, 2030' (kilometer, IND, None)\n",
      "0.4954900783766552\n",
      "'transport, passenger car, fleet average, ICEV-g, 2030' (kilometer, JPN, None)\n",
      "0.0010241043484935364\n",
      "'transport, passenger car, fleet average, ICEV-g, 2030' (kilometer, LAM, None)\n",
      "0.016985459156619115\n",
      "'transport, passenger car, fleet average, ICEV-g, 2030' (kilometer, MEA, None)\n",
      "0.022935738940793326\n",
      "'transport, passenger car, fleet average, ICEV-g, 2030' (kilometer, NEU, None)\n",
      "0.0018379136914849032\n",
      "'transport, passenger car, fleet average, ICEV-g, 2030' (kilometer, OAS, None)\n",
      "0.15616858859885616\n",
      "'transport, passenger car, fleet average, ICEV-g, 2030' (kilometer, REF, None)\n",
      "0.00284227534160407\n",
      "'transport, passenger car, fleet average, ICEV-g, 2030' (kilometer, SSA, None)\n",
      "0.014173047551943135\n",
      "'transport, passenger car, fleet average, PHEV-p, 2030' (kilometer, CAZ, None)\n",
      "0.04988677708901453\n",
      "'transport, passenger car, fleet average, PHEV-p, 2030' (kilometer, CHA, None)\n",
      "0.16940243309701614\n",
      "'transport, passenger car, fleet average, PHEV-p, 2030' (kilometer, EUR, None)\n",
      "0.1789826175558501\n",
      "'transport, passenger car, fleet average, PHEV-p, 2030' (kilometer, IND, None)\n",
      "0.006467823951574658\n",
      "'transport, passenger car, fleet average, PHEV-p, 2030' (kilometer, JPN, None)\n",
      "0.007764582763132412\n",
      "'transport, passenger car, fleet average, PHEV-p, 2030' (kilometer, LAM, None)\n",
      "0.1389884217689391\n",
      "'transport, passenger car, fleet average, PHEV-p, 2030' (kilometer, MEA, None)\n",
      "0.11167965932865583\n",
      "'transport, passenger car, fleet average, PHEV-p, 2030' (kilometer, NEU, None)\n",
      "0.026346391915335738\n",
      "'transport, passenger car, fleet average, PHEV-p, 2030' (kilometer, OAS, None)\n",
      "0.050634111607369976\n",
      "'transport, passenger car, fleet average, PHEV-p, 2030' (kilometer, REF, None)\n",
      "0.03757272477656106\n",
      "'transport, passenger car, fleet average, PHEV-p, 2030' (kilometer, SSA, None)\n",
      "0.02746721359683035\n",
      "'transport, passenger car, fleet average, HEV-p, 2030' (kilometer, CAZ, None)\n",
      "0.03787369382669069\n",
      "'transport, passenger car, fleet average, HEV-p, 2030' (kilometer, CHA, None)\n",
      "0.09197158633285663\n",
      "'transport, passenger car, fleet average, HEV-p, 2030' (kilometer, EUR, None)\n",
      "0.1301815575453111\n",
      "'transport, passenger car, fleet average, HEV-p, 2030' (kilometer, IND, None)\n",
      "0.017198897849935436\n",
      "'transport, passenger car, fleet average, HEV-p, 2030' (kilometer, JPN, None)\n",
      "0.01402426715023388\n",
      "'transport, passenger car, fleet average, HEV-p, 2030' (kilometer, LAM, None)\n",
      "0.16115693936360073\n",
      "'transport, passenger car, fleet average, HEV-p, 2030' (kilometer, MEA, None)\n",
      "0.15921706718038076\n",
      "'transport, passenger car, fleet average, HEV-p, 2030' (kilometer, NEU, None)\n",
      "0.017185051245917588\n",
      "'transport, passenger car, fleet average, HEV-p, 2030' (kilometer, OAS, None)\n",
      "0.06933208490894313\n",
      "'transport, passenger car, fleet average, HEV-p, 2030' (kilometer, REF, None)\n",
      "0.044192215959029287\n",
      "'transport, passenger car, fleet average, HEV-p, 2030' (kilometer, SSA, None)\n",
      "0.05415125028533825\n",
      "'transport, passenger car, fleet average, ICEV-p, 2030' (kilometer, CAZ, None)\n",
      "0.028204692687657514\n",
      "'transport, passenger car, fleet average, ICEV-p, 2030' (kilometer, CHA, None)\n",
      "0.052251170971072146\n",
      "'transport, passenger car, fleet average, ICEV-p, 2030' (kilometer, EUR, None)\n",
      "0.11825176115808363\n",
      "'transport, passenger car, fleet average, ICEV-p, 2030' (kilometer, IND, None)\n",
      "0.13848124449142737\n",
      "'transport, passenger car, fleet average, ICEV-p, 2030' (kilometer, JPN, None)\n",
      "0.019605738178774715\n",
      "'transport, passenger car, fleet average, ICEV-p, 2030' (kilometer, LAM, None)\n",
      "0.10618115185065354\n",
      "'transport, passenger car, fleet average, ICEV-p, 2030' (kilometer, MEA, None)\n",
      "0.09814882253711397\n",
      "'transport, passenger car, fleet average, ICEV-p, 2030' (kilometer, NEU, None)\n",
      "0.01052017133013246\n",
      "'transport, passenger car, fleet average, ICEV-p, 2030' (kilometer, OAS, None)\n",
      "0.21981151464028004\n",
      "'transport, passenger car, fleet average, ICEV-p, 2030' (kilometer, REF, None)\n",
      "0.04534604463976726\n",
      "'transport, passenger car, fleet average, ICEV-p, 2030' (kilometer, SSA, None)\n",
      "0.04410628036425362\n"
     ]
    }
   ],
   "source": [
    "#sep liq into pet and diesel?\n",
    "#just copy gasoline and assume a diesel share and make diesel process \n",
    "\n",
    "#see\n",
    "%run -i ./script/trans_modes_glo.py\n",
    "\n"
   ]
  },
  {
   "cell_type": "markdown",
   "metadata": {},
   "source": [
    "### Calculation of kcal/km bicycle\n",
    "\n",
    "The energy requirements of a bicycle are mainly determined by the gravity, rolling recistance, mechanic loss and, most importantly, aerodynamic drag.\n",
    "\n",
    "slope assumed to be zero since commutes begin and end at the same elevation.\n",
    "$\\qquad F_{\\mbox{gravity}} = g0 \\sin(\\arctan(\\frac{s}{100})) w = 0 \\\\\n",
    "\\text{where $g0$ = gravitational acceleration, $s$ = slope and $w$ = weight of rider and bike}$ \n",
    "\n",
    "rolling resistance\n",
    "$\\qquad F_{\\mbox{rolling}} = g0 \\cos(\\arctan(\\frac{s}{100})) w c_{r} \\\\\n",
    "\\text{where $c_r$ = coefficient of rolling resistance}$\n",
    "\n",
    "Aerodynamic drag\n",
    "$\\qquad F_{\\mbox{aero}} = 0.5 c_{d} A \\rho V^2 \\\\\n",
    "\\text{where $c_{d}$ = drag coefficient, $A$ = frontal area, $\\rho$= air density and $V$ is speed}$\n",
    "\n",
    "Power supply by rider:\n",
    "$\\qquad P_{\\mbox{rider}} = c_{b} \\left[F_{\\mbox{gravity}} + F_{\\mbox{rolling}} + F_{\\mbox{aero}}\\right] V \\\\\n",
    "\\text{where $c_{b}$ = bike efficiency, drivetrain losses and others}$\n",
    "\n",
    "Food intake:\n",
    "$\\qquad E_{rider} = (P_{\\mbox{rider}} \\frac{d}{V}) \\frac{1}{c_{m}} \\\\\n",
    "\\text{where $d$ = distance, $c_{m}$ is the muscular efficiency}$ \n",
    "\n",
    "\n",
    "do we need to give sources for formulas, they seem quite obvious\n",
    "\n",
    "Take Frontal Area and Drag Coeff from \n",
    "file:///C:/Users/rauner/AppData/Local/Temp/Aerodynamic_drag_in_cycling_Methods_of_assessment.pdf\n",
    "\n",
    "Muscular efficiency:\n",
    "https://www.researchgate.net/publication/22014772_Muscular_efficiency_during_steady-rate_exercise_effects_of_speed_and_work_rate\n",
    "\n",
    "This gives around 15 kcal\n"
   ]
  },
  {
   "cell_type": "code",
   "execution_count": 8,
   "metadata": {},
   "outputs": [
    {
     "name": "stdout",
     "output_type": "stream",
     "text": [
      "11.41 kcal/km of food intake required\n"
     ]
    }
   ],
   "source": [
    "ws2kcal = 1/4184\n",
    "g0 = 9.8067 # m/s2\n",
    "roh = 1.22601 # kg/m3\n",
    "\n",
    "s = 0 # %\n",
    "w = 70 # kg\n",
    "a = 0.5 # m2\n",
    "\n",
    "v = 6 # m/2\n",
    "d = 1000 # m\n",
    "\n",
    "cr = 0.005\n",
    "cd = 0.6\n",
    "cb = 0.05\n",
    "cm = 0.2\n",
    "\n",
    "\n",
    "E = (((1-cb)*((g0*ma.sin(ma.atan(s/100))*w)+(g0*ma.cos(ma.atan(s/100))*w*cr)+(0.5*cd*a*roh*pow(v,2)))*v)*d/v)*1/cm * ws2kcal\n",
    "\n",
    "print(\"{:.2f} kcal/km of food intake required\".format(E))"
   ]
  },
  {
   "cell_type": "code",
   "execution_count": 9,
   "metadata": {},
   "outputs": [],
   "source": [
    "# Add walking\n",
    "# take the regression model from https://journals.lww.com/nsca-jscr/Fulltext/2010/10000/Comparison_of_Energy_Expenditure_to_Walk_or_Run_a.29.aspx\n",
    "# read the kg average body weight from magpie and apply to this formula\n",
    "\n",
    "#E_walking = (mass (kg) × 0.789 - gender (men = 1, women = 2) × 7.634 + 51.109) / 1.6\n"
   ]
  },
  {
   "cell_type": "markdown",
   "metadata": {},
   "source": [
    "### Diet to fuel cycling and ebike\n",
    "\n",
    "The diet plays a crucial role for the impact of bicycles. We model the nutrition demand and supply with the MAGPIE model. We use the same climate budget and assume a EAT-LANCET low waste diet adoption until 2050."
   ]
  },
  {
   "cell_type": "code",
   "execution_count": 10,
   "metadata": {},
   "outputs": [],
   "source": [
    "# Calculate a kcal share mix according to the MAGPIE results\n",
    "# Calculate a demand/supply share\n",
    "# Calulate the lca for that\n",
    "cal2kj = 4.184\n"
   ]
  },
  {
   "cell_type": "code",
   "execution_count": 11,
   "metadata": {},
   "outputs": [],
   "source": [
    "#select which nutrition processes are included\n",
    "#determine their kg/kcal\n",
    "#see\n",
    "%run -i ./script/diet_mappings.py"
   ]
  },
  {
   "cell_type": "code",
   "execution_count": 12,
   "metadata": {},
   "outputs": [
    {
     "name": "stdout",
     "output_type": "stream",
     "text": [
      "the nutrition consists of:\n",
      "'market for fishmeal, 65-67% protein' (kilogram, GLO, None)\n",
      "6.9908745247148295e-06\n",
      "'market for maize seed, organic, at farm' (kilogram, GLO, None)\n",
      "1.0389942877763694e-05\n",
      "'market for rice, non-basmati' (kilogram, GLO, None)\n",
      "0.00010836388157680935\n",
      "'market for wheat grain, feed' (kilogram, GLO, None)\n",
      "3.908248216903998e-05\n",
      "'market for peanut' (kilogram, GLO, None)\n",
      "7.664178754166081e-06\n",
      "'market for apple' (kilogram, GLO, None)\n",
      "0.00013447994865295248\n",
      "'market for potato' (kilogram, GLO, None)\n",
      "2.00564032503196e-05\n",
      "'market for chickpea' (kilogram, GLO, None)\n",
      "1.0348285396870104e-05\n",
      "'market for potato' (kilogram, GLO, None)\n",
      "2.00564032503196e-05\n",
      "'market for sugar beet pulp' (kilogram, GLO, None)\n",
      "5.109008557589333e-09\n",
      "'market for sugar, from sugarcane' (kilogram, GLO, None)\n",
      "2.162297378427056e-07\n",
      "'market for dairy' (cubic meter, GLO, None)\n",
      "1.5234767913888427e-07\n",
      "'chicken production' (kilogram, GLO, None)\n",
      "1.1301904685935106e-05\n",
      "'market for swine for slaughtering, live weight' (kilogram, GLO, None)\n",
      "1.384582886484027e-05\n",
      "'chicken production' (kilogram, GLO, None)\n",
      "1.1301904685935106e-05\n",
      "'market for red meat, live weight' (kilogram, GLO, None)\n",
      "1.3611761894398143e-05\n",
      "'market for ethoxylated alcohol (AE11)' (kilogram, GLO, None)\n",
      "8.647993240388679e-06\n",
      "'market for wheat grain, feed' (kilogram, GLO, None)\n",
      "3.908248216903998e-05\n",
      "'market for molasses, from sugar beet' (kilogram, GLO, None)\n",
      "3.3069650219250325e-09\n",
      "'market for palm oil, refined' (kilogram, GLO, None)\n",
      "1.7101171462052697e-05\n",
      "'market for sugar, from sugarcane' (kilogram, GLO, None)\n",
      "2.162297378427056e-07\n"
     ]
    }
   ],
   "source": [
    "# fill a list with activities present in the magpie_ecoinvent_nutrition_mapping_simple\n",
    "activities=[]\n",
    "for value in magpie_ecoinvent_nutrition_mapping_extended.values():\n",
    "        activities.append([act for act in ei if act['name']==str(value).split(\"'\",2)[1] and 'GLO' in act['location']][0])\n",
    "\n",
    "#create a new nutrition activity for the \n",
    "nutrition = ei.new_activity(code = 'nutrition', name = \"Nutrition mix, EAT-Lancet diet convergance in 2050\", unit = \"kcal\")\n",
    "\n",
    "print(\"the nutrition consists of:\")\n",
    "\n",
    "#loop over included nutition activities and add amount\n",
    "for i in range(len(activities)-1):\n",
    "    act= str(activities[i])\n",
    "    print(act)\n",
    "\n",
    "    amt = magpie_intake.query(\"Variable == @act\")[str(year)]\n",
    "    amt = pd.to_numeric(amt, errors='coerce')\n",
    "    if(ma.isnan(amt.values[0])):\n",
    "        amt.values[0] = 0\n",
    "    print(amt.values[0])\n",
    "\n",
    "    nutrition.new_exchange(input=activities[i].key,amount=amt.values[0],unit=\"kg/kcal\",type='technosphere').save()\n",
    "\n",
    "nutrition.save()\n"
   ]
  },
  {
   "cell_type": "markdown",
   "metadata": {},
   "source": [
    "### Climate change"
   ]
  },
  {
   "cell_type": "markdown",
   "metadata": {},
   "source": [
    "Let's do a comparative LCA along the climate change dimension for starters:"
   ]
  },
  {
   "cell_type": "code",
   "execution_count": 13,
   "metadata": {},
   "outputs": [],
   "source": [
    "# select transport modes to perform lca on\n",
    "\n",
    "car_load_factor = 2.03 # UCD transport database global average, not chaning in the future\n",
    "\n",
    "bike = [act for act in ei if \"transport, passenger, bicycle\" == act[\"name\"] and \"RoW\" == act[\"location\"]][0]\n",
    "#print(bike[\"comment\"])\n",
    "\n",
    "ebike = [act for act in ei if \"transport, passenger, electric bicycle\" == act[\"name\"] and \"RoW\" == act[\"location\"]][0]\n",
    "#print(ebike[\"comment\"])\n",
    "\n",
    "battery_electric_car = [act for act in ei if \"pass_road_ldv_bev\" in act[\"name\"]][0]\n",
    "fuel_cell_car = [act for act in ei if \"pass_road_ldv_fcev\" in act[\"name\"]][0]\n",
    "gas_car = [act for act in ei if \"pass_road_ldv_gases\" in act[\"name\"]][0]\n",
    "hybrid_electric_car = [act for act in ei if \"pass_road_ldv_hybrid_electric\" in act[\"name\"]][0]\n",
    "hybrid_liquids_car = [act for act in ei if \"pass_road_ldv_hybrid_liquids\" in act[\"name\"]][0]\n",
    "gasoline_car = [act for act in ei if \"pass_road_ldv_liquids\" in act[\"name\"]][0]"
   ]
  },
  {
   "cell_type": "code",
   "execution_count": 14,
   "metadata": {},
   "outputs": [
    {
     "data": {
      "text/plain": [
       "<bw2calc.lca.LCA at 0x1b28b130>"
      ]
     },
     "execution_count": 14,
     "metadata": {},
     "output_type": "execute_result"
    }
   ],
   "source": [
    "bw.LCA({gasoline_car: 1}, ('IPCC 2013', 'climate change', 'GWP 100a'))"
   ]
  },
  {
   "cell_type": "code",
   "execution_count": 15,
   "metadata": {},
   "outputs": [
    {
     "data": {
      "text/plain": [
       "0.11970736714540947"
      ]
     },
     "execution_count": 15,
     "metadata": {},
     "output_type": "execute_result"
    }
   ],
   "source": [
    "#do some comparative analysis on technology level\n",
    "gasoline_car_lca = bw.LCA({gasoline_car: 1/car_load_factor}, ('IPCC 2013', 'climate change', 'GWP 100a'))\n",
    "gasoline_car_lca.lci()\n",
    "gasoline_car_lca.lcia()\n",
    "gasoline_car_lca.score"
   ]
  },
  {
   "cell_type": "code",
   "execution_count": 16,
   "metadata": {},
   "outputs": [
    {
     "data": {
      "text/plain": [
       "0.04304059047195227"
      ]
     },
     "execution_count": 16,
     "metadata": {},
     "output_type": "execute_result"
    }
   ],
   "source": [
    "battery_electric_car_lca = bw.LCA({battery_electric_car: 1/car_load_factor}, ('IPCC 2013', 'climate change', 'GWP 100a'))\n",
    "battery_electric_car_lca.lci()\n",
    "battery_electric_car_lca.lcia()\n",
    "battery_electric_car_lca.score"
   ]
  },
  {
   "cell_type": "code",
   "execution_count": 17,
   "metadata": {},
   "outputs": [
    {
     "data": {
      "text/plain": [
       "0.015043000732790714"
      ]
     },
     "execution_count": 17,
     "metadata": {},
     "output_type": "execute_result"
    }
   ],
   "source": [
    "bike_lca = bw.LCA({bike: 1, nutrition: E}, ('IPCC 2013', 'climate change', 'GWP 100a'))\n",
    "bike_lca.lci()\n",
    "bike_lca.lcia()\n",
    "bike_lca.score"
   ]
  },
  {
   "cell_type": "code",
   "execution_count": 18,
   "metadata": {},
   "outputs": [
    {
     "data": {
      "text/plain": [
       "0.016115118929484456"
      ]
     },
     "execution_count": 18,
     "metadata": {},
     "output_type": "execute_result"
    }
   ],
   "source": [
    "# this nutrition requirement is only an estimate, find better source\n",
    "ebike_lca = bw.LCA({ebike: 1, nutrition: 5}, ('IPCC 2013', 'climate change', 'GWP 100a'))\n",
    "ebike_lca.lci()\n",
    "ebike_lca.lcia()\n",
    "ebike_lca.score"
   ]
  },
  {
   "cell_type": "markdown",
   "metadata": {},
   "source": [
    "### Other impact dimensions\n",
    "\n",
    "Let's look at a range of dimensions using RECIPE indicators."
   ]
  },
  {
   "cell_type": "code",
   "execution_count": 19,
   "metadata": {},
   "outputs": [],
   "source": [
    "def indicators(gasoline_car, battery_electric_car_lca, bike_lca, ebike_lca):\n",
    "    gasoline_car_impacts = {}\n",
    "    battery_electric_car_impacts = {}\n",
    "    bike_impacts = {}\n",
    "    ebike_impacts = {}\n",
    "    \n",
    "    for m in methods:\n",
    "        \n",
    "        gasoline_car_lca.switch_method(m)\n",
    "        battery_electric_car_lca.switch_method(m)\n",
    "        bike_lca.switch_method(m)\n",
    "        ebike_lca.switch_method(m)\n",
    "        \n",
    "        gasoline_car_lca.lcia()\n",
    "        battery_electric_car_lca.lcia()\n",
    "        bike_lca.lcia()\n",
    "        ebike_lca.lcia()\n",
    "        \n",
    "        gasoline_car_impacts[m[1]] = gasoline_car_lca.score\n",
    "        battery_electric_car_impacts[m[1]] = battery_electric_car_lca.score\n",
    "        bike_impacts[m[1]] = bike_lca.score\n",
    "        ebike_impacts[m[1]] = ebike_lca.score\n",
    "        \n",
    "    full_data = pd.concat({\"gasoline_car\": pd.DataFrame.from_dict(gasoline_car_impacts, orient=\"index\"),\n",
    "                           \"battery_electric_car\": pd.DataFrame.from_dict(battery_electric_car_impacts, orient=\"index\"),\n",
    "                           \"bike\": pd.DataFrame.from_dict(bike_impacts, orient=\"index\"), \n",
    "                           \"ebike\": pd.DataFrame.from_dict(ebike_impacts, orient=\"index\")})\n",
    "    fd = full_data.reset_index().pivot_table(index=\"level_1\", columns=\"level_0\", values=0)\n",
    "    fd.index.name = \"indicator\"\n",
    "    fd.columns.name = \"transport mode\"\n",
    "    return fd"
   ]
  },
  {
   "cell_type": "code",
   "execution_count": 20,
   "metadata": {},
   "outputs": [],
   "source": [
    "methods = [m for m in bw.methods if \"ReCiPe Midpoint (H) V1.13\" in str(m) and \"w/o LT\" not in str(m) and \"no LT\" not in str(m)]\n",
    "data = indicators(gasoline_car, battery_electric_car_lca, bike_lca, ebike_lca)\n",
    "data.to_csv(\"results/impact_pkm_\"+str(year)+\".csv\")"
   ]
  },
  {
   "cell_type": "code",
   "execution_count": 21,
   "metadata": {
    "scrolled": true
   },
   "outputs": [
    {
     "data": {
      "image/png": "[encoded data removed]",
      "text/plain": [
       "<Figure size 432x288 with 1 Axes>"
      ]
     },
     "metadata": {
      "needs_background": "light"
     },
     "output_type": "display_data"
    }
   ],
   "source": [
    "data.plot.bar()\n",
    "plt.title('Impact [pkm] in ' + str(year))\n",
    "plt.savefig(\"plot/impact_pkm_\"+str(year)+\".pdf\", bbox_inches='tight')"
   ]
  },
  {
   "cell_type": "code",
   "execution_count": 22,
   "metadata": {},
   "outputs": [
    {
     "name": "stdout",
     "output_type": "stream",
     "text": [
      "Most important biosphere flows\n"
     ]
    },
    {
     "ename": "NameError",
     "evalue": "name 'ContributionAnalysis' is not defined",
     "output_type": "error",
     "traceback": [
      "\u001b[1;31m---------------------------------------------------------------------------\u001b[0m",
      "\u001b[1;31mNameError\u001b[0m                                 Traceback (most recent call last)",
      "\u001b[1;32m~\\Documents\\PIK\\bicycle\\script\\diet_mappings.py\u001b[0m in \u001b[0;36m<module>\u001b[1;34m\u001b[0m\n\u001b[0;32m      1\u001b[0m \u001b[0mprint\u001b[0m\u001b[1;33m(\u001b[0m\u001b[1;34m\"Most important biosphere flows\"\u001b[0m\u001b[1;33m)\u001b[0m\u001b[1;33m\u001b[0m\u001b[1;33m\u001b[0m\u001b[0m\n\u001b[0;32m      2\u001b[0m \u001b[1;31m# why does it show two rows?\u001b[0m\u001b[1;33m\u001b[0m\u001b[1;33m\u001b[0m\u001b[1;33m\u001b[0m\u001b[0m\n\u001b[1;32m----> 3\u001b[1;33m \u001b[0mpprint\u001b[0m\u001b[1;33m.\u001b[0m\u001b[0mpprint\u001b[0m\u001b[1;33m(\u001b[0m\u001b[0mContributionAnalysis\u001b[0m\u001b[1;33m(\u001b[0m\u001b[1;33m)\u001b[0m\u001b[1;33m.\u001b[0m\u001b[0mannotated_top_processes\u001b[0m\u001b[1;33m(\u001b[0m\u001b[0mbike_lca\u001b[0m\u001b[1;33m)\u001b[0m\u001b[1;33m[\u001b[0m\u001b[1;33m:\u001b[0m\u001b[1;36m5\u001b[0m\u001b[1;33m]\u001b[0m\u001b[1;33m)\u001b[0m\u001b[1;33m\u001b[0m\u001b[1;33m\u001b[0m\u001b[0m\n\u001b[0m",
      "\u001b[1;31mNameError\u001b[0m: name 'ContributionAnalysis' is not defined"
     ]
    }
   ],
   "source": [
    "print(\"Most important biosphere flows\")\n",
    "# why does it show two rows?\n",
    "pprint.pprint(ContributionAnalysis().annotated_top_processes(bike_lca)[:5])"
   ]
  },
  {
   "cell_type": "markdown",
   "metadata": {},
   "source": [
    "## Sectoral contribution of increase bicycle share\n",
    "\n",
    "* read remind results\n",
    "* estimate urban share of total passenger transport\n",
    "* construct different avarage transport activities with different bicycle shares\n",
    "\n",
    "construct a total activity for all activities\n",
    "construct a total of totals"
   ]
  },
  {
   "cell_type": "code",
   "execution_count": null,
   "metadata": {},
   "outputs": [],
   "source": [
    "#read population weighted urbanization\n",
    "non_bike_urban_share = 0.2\n",
    "urban_population = pd.read_csv(urban_population, sep=';')\n",
    "urban_population = urban_population[str(year)]\n",
    "bike_share = ((1-non_bike_urban_share)*urban_population)/100\n",
    "bike_share = bike_share[0]"
   ]
  },
  {
   "cell_type": "code",
   "execution_count": null,
   "metadata": {},
   "outputs": [],
   "source": [
    "amt_battery_electric_car=pd.to_numeric(remind_pass_road_ldv_bev_total[str(year)], errors='coerce')*1000000000\n",
    "amt_fuel_cell_car=pd.to_numeric(remind_pass_road_ldv_fcev_total[str(year)], errors='coerce')*1000000000\n",
    "amt_gas_car=pd.to_numeric(remind_pass_road_ldv_gases_total[str(year)], errors='coerce')*1000000000\n",
    "amt_hybrid_electric_car=pd.to_numeric(remind_pass_road_ldv_hybrid_electric_total[str(year)], errors='coerce')*1000000000\n",
    "amt_hybrid_liquids_car=pd.to_numeric(remind_pass_road_ldv_hybrid_liquids_total[str(year)], errors='coerce')*1000000000\n",
    "amt_gasoline_car=pd.to_numeric(remind_pass_road_ldv_liquids_total[str(year)], errors='coerce')*1000000000\n",
    "\n",
    "amt_ldv_total = sum((amt_battery_electric_car.values[0],\n",
    "                    amt_fuel_cell_car.values[0],\n",
    "                    amt_gas_car.values[0],\n",
    "                    amt_hybrid_electric_car.values[0],\n",
    "                    amt_hybrid_liquids_car.values[0],\n",
    "                    amt_gasoline_car.values[0]))"
   ]
  },
  {
   "cell_type": "code",
   "execution_count": null,
   "metadata": {},
   "outputs": [],
   "source": [
    "# this nutrition requirement is only an estimate, find better source\n",
    "ldv_total_lca = bw.LCA({battery_electric_car: amt_battery_electric_car/car_load_factor,\n",
    "                    fuel_cell_car: amt_fuel_cell_car/car_load_factor,\n",
    "                    gas_car: amt_gas_car/car_load_factor,\n",
    "                    hybrid_electric_car: amt_hybrid_electric_car/car_load_factor,\n",
    "                    hybrid_liquids_car: amt_hybrid_liquids_car/car_load_factor,\n",
    "                    gasoline_car: amt_gasoline_car/car_load_factor}, ('IPCC 2013', 'climate change', 'GWP 100a'))\n",
    "ldv_total_lca.lci()\n",
    "ldv_total_lca.lcia()\n",
    "ldv_total_lca.score"
   ]
  },
  {
   "cell_type": "code",
   "execution_count": null,
   "metadata": {},
   "outputs": [],
   "source": [
    "#also replace non-LDV here?\n",
    "ldv_total_bike_lca = bw.LCA({battery_electric_car: (amt_battery_electric_car/car_load_factor)*(1-bike_share),\n",
    "                    fuel_cell_car: (amt_fuel_cell_car/car_load_factor)*(1-bike_share),\n",
    "                    gas_car: (amt_gas_car/car_load_factor)*(1-bike_share),\n",
    "                    hybrid_electric_car: (amt_hybrid_electric_car/car_load_factor)*(1-bike_share),\n",
    "                    hybrid_liquids_car: (amt_hybrid_liquids_car/car_load_factor)*(1-bike_share),\n",
    "                    gasoline_car: (amt_gasoline_car/car_load_factor)*(1-bike_share),\n",
    "                    bike: bike_share* amt_ldv_total,\n",
    "                    nutrition: E*bike_share* amt_ldv_total}, ('IPCC 2013', 'climate change', 'GWP 100a'))\n"
   ]
  },
  {
   "cell_type": "code",
   "execution_count": null,
   "metadata": {},
   "outputs": [],
   "source": [
    "ldv_total_bike_lca.lci()\n",
    "ldv_total_bike_lca.lcia()\n",
    "ldv_total_bike_lca.score"
   ]
  },
  {
   "cell_type": "code",
   "execution_count": null,
   "metadata": {},
   "outputs": [],
   "source": [
    "def indicators_total(ldv_total_lca, ldv_total_bike_lca):\n",
    "    ldv_total_impacts = {}\n",
    "    ldv_total_bike_impacts = {}\n",
    "     \n",
    "    for m in methods:\n",
    "        \n",
    "        ldv_total_lca.switch_method(m)\n",
    "        ldv_total_bike_lca.switch_method(m)\n",
    "             \n",
    "        ldv_total_lca.lcia()\n",
    "        ldv_total_bike_lca.lcia()\n",
    "        \n",
    "        #aggregate to midpoint totals\n",
    "        #ldv_total_impacts[m[1]] = ldv_total_lca.score\n",
    "        #ldv_total_bike_impacts[m[1]] = ldv_total_bike_lca.score\n",
    "        ldv_total_impacts[m] = ldv_total_lca.score\n",
    "        ldv_total_bike_impacts[m] = ldv_total_bike_lca.score\n",
    "              \n",
    "    full_data = pd.concat({\"ldv_total\": pd.DataFrame.from_dict(ldv_total_impacts, orient=\"index\"),\n",
    "                           \"ldv_total_bike share \"+str(bike_share): pd.DataFrame.from_dict(ldv_total_bike_impacts, orient=\"index\")})\n",
    "    fd = full_data.reset_index().pivot_table(index=\"level_1\", columns=\"level_0\", values=0)\n",
    "    fd.index.name = \"indicator\"\n",
    "    fd.columns.name = \"scenario\"\n",
    "    return fd"
   ]
  },
  {
   "cell_type": "code",
   "execution_count": null,
   "metadata": {},
   "outputs": [],
   "source": [
    "data = indicators_total(ldv_total_lca, ldv_total_bike_lca)\n",
    "data.to_csv(\"results/impact_total_bike_share_\"+str(bike_share)+'_'+str(year)+\".csv\")"
   ]
  },
  {
   "cell_type": "code",
   "execution_count": null,
   "metadata": {},
   "outputs": [],
   "source": [
    "data.plot.bar()\n",
    "plt.title('Impact total in ' + str(year))\n",
    "plt.savefig(\"plot/impact_total_bike_share_\"+str(bike_share)+'_'+str(year)+\".pdf\", bbox_inches='tight')"
   ]
  },
  {
   "cell_type": "code",
   "execution_count": null,
   "metadata": {},
   "outputs": [],
   "source": [
    "top_bike_lca =  ContributionAnalysis().annotated_top_processes(bike_lca)\n",
    "top_bike_lca = pd.DataFrame(top_bike_lca)\n",
    "top_bike_lca.to_csv(\"bike_lca\" + \".csv\")"
   ]
  },
  {
   "cell_type": "markdown",
   "metadata": {},
   "source": [
    "## Calc indicators not in the model and add them to the plot"
   ]
  },
  {
   "cell_type": "code",
   "execution_count": null,
   "metadata": {},
   "outputs": [],
   "source": [
    "\n",
    "#rbind to 2030\n",
    "#rbind to data per km\n",
    "\n",
    "%run -i ./script/lit.py\n",
    "%run -i ./script/air_pollution.py\n",
    "\n",
    "data = pd.concat([data, literature, air_pollution_res])  \n",
    "\n",
    "# which units do the recipe indicators have?\n",
    "\n",
    "# add the general classification and plot seperately\n",
    "\n",
    "# praking urban area cost ?\n",
    "\n",
    "\n"
   ]
  },
  {
   "cell_type": "code",
   "execution_count": null,
   "metadata": {},
   "outputs": [],
   "source": [
    "literature"
   ]
  },
  {
   "cell_type": "code",
   "execution_count": null,
   "metadata": {},
   "outputs": [],
   "source": [
    "data.plot.bar()\n",
    "plt.title('Impact total in ' + str(year))\n",
    "plt.savefig(\"plot/impact_total_bike_share_\"+str(bike_share)+'_'+str(year)+\".pdf\", bbox_inches='tight')\n",
    "data.to_csv(\"data.csv\")"
   ]
  },
  {
   "cell_type": "code",
   "execution_count": null,
   "metadata": {},
   "outputs": [],
   "source": [
    "df = pd.read_csv(\"results/data_1.csv\", sep=';')\n",
    "#add ldv total\n",
    "#distribute equally to LDV and save for plotting"
   ]
  },
  {
   "cell_type": "code",
   "execution_count": null,
   "metadata": {},
   "outputs": [],
   "source": [
    "print(\"Most important activities\")\n",
    "# why does it show two rows?\n",
    "activities = ContributionAnalysis().annotated_top_processes(ldv_total_lca)\n",
    "#flows = ContributionAnalysis().annotate(ldv_total_lca)\n",
    "activities = [m for m in activities if \"synthetic rubber production\" in str(m)]\n"
   ]
  },
  {
   "cell_type": "code",
   "execution_count": null,
   "metadata": {},
   "outputs": [],
   "source": [
    "# also get the 2015 numbers and scale with that\n",
    "\n",
    "# activities = str(activities[0]).split('(', 1)[2]\n",
    "\n",
    "float(str(activities[0]).split('(', 1)[1].split(',', 1)[0]) + float(str(activities[1]).split('(', 1)[1].split(',', 1)[0])"
   ]
  },
  {
   "cell_type": "code",
   "execution_count": null,
   "metadata": {},
   "outputs": [],
   "source": [
    "[m for m in bw.methods if \"obsolete\" not in str(m)]"
   ]
  },
  {
   "cell_type": "code",
   "execution_count": null,
   "metadata": {
    "scrolled": true
   },
   "outputs": [],
   "source": [
    "# also make per km with vkm?\n",
    "# divide by vkm ?\n",
    "# append all them to the data\n",
    "# do it by vkm\n",
    "# then put it to pkm\n",
    "# add units\n"
   ]
  },
  {
   "cell_type": "code",
   "execution_count": null,
   "metadata": {},
   "outputs": [],
   "source": []
  },
  {
   "cell_type": "code",
   "execution_count": null,
   "metadata": {},
   "outputs": [],
   "source": []
  }
 ],
 "metadata": {
  "kernelspec": {
   "display_name": "Python 3",
   "language": "python",
   "name": "python3"
  },
  "language_info": {
   "codemirror_mode": {
    "name": "ipython",
    "version": 3
   },
   "file_extension": ".py",
   "mimetype": "text/x-python",
   "name": "python",
   "nbconvert_exporter": "python",
   "pygments_lexer": "ipython3",
   "version": "3.8.8"
  }
 },
 "nbformat": 4,
 "nbformat_minor": 2
}
